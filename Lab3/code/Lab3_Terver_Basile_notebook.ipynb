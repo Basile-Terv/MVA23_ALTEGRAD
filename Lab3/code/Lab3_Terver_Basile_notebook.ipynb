{
  "cells": [
    {
      "cell_type": "markdown",
      "metadata": {
        "id": "DlAfI8mCWAf3"
      },
      "source": [
        "<center><h2>ALTeGraD 2023<br>Lab Session 3: Transfer learning for NLP</h2> 24 / 10 / 2023<br> Dr. G. Shang, H. Abdine<br><br>\n",
        "\n",
        "\n",
        "<b>Student name:</b> [Basile Terver]\n",
        "\n",
        "</center>\n",
        "\n",
        "<br><br>\n",
        "In this lab we will:\n",
        "* Implement and pretrain a language model with transformer architecture.\n",
        "* Use the pretrained model (transfer learning) to perform a sentiment analysis task which consists of classifying some books reviews into positive and negative ones.\n",
        "* Compare the performance of the pretrained model to a model trained from scratch.\n",
        " <br>\n",
        "\n",
        "<b>The deadline for this lab is October 31, 2023 11:59 PM.</b> More details about the submission and the architecture for this lab can be found in the handout PDF."
      ]
    },
    {
      "cell_type": "code",
      "execution_count": 1,
      "metadata": {
        "id": "IqukuIe0Rb_c"
      },
      "outputs": [],
      "source": [
        "import math\n",
        "\n",
        "import torch\n",
        "import torch.nn as nn\n",
        "from torch.nn.utils.rnn import pad_sequence\n",
        "import inspect\n",
        "\n",
        "device = torch.device(\"cuda\" if torch.cuda.is_available() else \"cpu\")"
      ]
    },
    {
      "cell_type": "markdown",
      "metadata": {
        "id": "5FF6fjkqgN39"
      },
      "source": [
        "### The Model"
      ]
    },
    {
      "cell_type": "code",
      "execution_count": 2,
      "metadata": {
        "id": "p0cj9WkSFQwl"
      },
      "outputs": [],
      "source": [
        "def count_parameters(model):\n",
        "    return sum(p.numel() for p in model.parameters() if p.requires_grad)\n",
        "\n",
        "class TransformerModel(nn.Module):\n",
        "    def __init__(self, ntoken, nhead, nhid, nlayers, dropout=0.5):\n",
        "        super(TransformerModel, self).__init__()\n",
        "        '''\n",
        "        ntokens: the size of vocabulary\n",
        "        nhid: the hidden dimension of the model.\n",
        "        We assume that embedding_dim = nhid\n",
        "        nlayers: the number of nn.TransformerEncoderLayer in nn.TransformerEncoder\n",
        "        nhead: the number of heads in the multiheadattention models\n",
        "        dropout: the dropout value\n",
        "         '''\n",
        "        self.model_type = \"Transformer\"\n",
        "        self.encoder = nn.Embedding(ntoken, nhid) # fill me, nhid = the dim_embed\n",
        "        self.pos_encoder = PositionalEncoding(nhid,dropout) #fill me, the PositionalEncoding class is implemented in the next cell\n",
        "        encoder_layers = nn.TransformerEncoderLayer(nhid,nhead,dim_feedforward=nhid,dropout=dropout) #fill me we assume nhid = d_model = dim_feedforward\n",
        "        self.transformer_encoder = nn.TransformerEncoder(encoder_layers,nlayers) #fill me\n",
        "        self.nhid = nhid\n",
        "        self.init_weights()\n",
        "\n",
        "    def generate_square_subsequent_mask(self, sz):\n",
        "        mask = (torch.triu(torch.ones(sz, sz)) == 1).transpose(0, 1)\n",
        "        mask = (\n",
        "            mask.float()\n",
        "            .masked_fill(mask == 0, float(\"-inf\"))\n",
        "            .masked_fill(mask == 1, float(0.0))\n",
        "        )\n",
        "        return mask\n",
        "\n",
        "    def init_weights(self):\n",
        "        initrange = 0.1\n",
        "        self.encoder.weight.data.uniform_(-initrange, initrange)\n",
        "\n",
        "    def forward(self, src, src_mask):\n",
        "        src = self.encoder(src) * math.sqrt(self.nhid)\n",
        "        src = self.pos_encoder(src)#fill me\n",
        "        output = self.transformer_encoder(src, src_mask) #fill me\n",
        "        return output\n",
        "\n",
        "\n",
        "class ClassificationHead(nn.Module):\n",
        "    def __init__(self, nhid, nclasses):\n",
        "        super(ClassificationHead, self).__init__()\n",
        "        self.decoder = nn.Linear(in_features=nhid,out_features=nclasses)#fill me\n",
        "        self.init_weights()\n",
        "\n",
        "    def init_weights(self):\n",
        "        initrange = 0.1\n",
        "        self.decoder.bias.data.zero_()\n",
        "        self.decoder.weight.data.uniform_(-initrange, initrange)\n",
        "\n",
        "    def forward(self, src):\n",
        "        output = self.decoder(src)\n",
        "        return output\n",
        "\n",
        "class Model(nn.Module):\n",
        "    def __init__(self, ntoken, nhead, nhid, nlayers, nclasses, dropout=0.5):\n",
        "        super(Model, self).__init__()\n",
        "        self.base = TransformerModel(ntoken, nhead, nhid, nlayers, dropout) #fill me\n",
        "        self.classifier = ClassificationHead(nhid, nclasses) #fill me\n",
        "\n",
        "    def forward(self, src, src_mask):\n",
        "        # base model\n",
        "        x = self.base(src,src_mask) #fill me\n",
        "        # classifier model\n",
        "        output =self.classifier(x) #fill me\n",
        "        return output"
      ]
    },
    {
      "cell_type": "code",
      "execution_count": 3,
      "metadata": {
        "id": "kt2QQohaFZry"
      },
      "outputs": [],
      "source": [
        "class PositionalEncoding(nn.Module):\n",
        "    def __init__(self, nhid, dropout=0.1, max_len=5000):\n",
        "        super(PositionalEncoding, self).__init__()\n",
        "        self.dropout = nn.Dropout(p=dropout)\n",
        "\n",
        "        pe = torch.zeros(max_len, nhid)\n",
        "        position = torch.arange(0, max_len, dtype=torch.float).unsqueeze(1)\n",
        "        div_term = torch.exp(\n",
        "            torch.arange(0, nhid, 2).float() * (-math.log(10000.0) / nhid)\n",
        "        )\n",
        "        pe[:, 0::2] = torch.sin(position * div_term)\n",
        "        pe[:, 1::2] = torch.cos(position * div_term)\n",
        "        pe = pe.unsqueeze(0).transpose(0, 1)\n",
        "        self.register_buffer(\"pe\", pe)\n",
        "\n",
        "    def forward(self, x):\n",
        "        x = x + self.pe[: x.size(0), :]\n",
        "        return self.dropout(x)"
      ]
    },
    {
      "cell_type": "markdown",
      "metadata": {
        "id": "SfEYHJx2JW6l"
      },
      "source": [
        "Let's verify if our model works, by applying one inference step"
      ]
    },
    {
      "cell_type": "code",
      "execution_count": 4,
      "metadata": {
        "colab": {
          "base_uri": "https://localhost:8080/"
        },
        "id": "rhb2gkUhJMR0",
        "outputId": "7c7f36bb-d16d-4836-c37d-fdd8b16117cf"
      },
      "outputs": [
        {
          "output_type": "stream",
          "name": "stderr",
          "text": [
            "/usr/local/lib/python3.10/dist-packages/torch/nn/modules/transformer.py:282: UserWarning: enable_nested_tensor is True, but self.use_nested_tensor is False because encoder_layer.self_attn.batch_first was not True(use batch_first for better inference performance)\n",
            "  warnings.warn(f\"enable_nested_tensor is True, but self.use_nested_tensor is False because {why_not_sparsity_fast_path}\")\n"
          ]
        },
        {
          "output_type": "stream",
          "name": "stdout",
          "text": [
            "number of parameters of base.encoder.weight is 20000\n",
            "number of parameters of base.transformer_encoder.layers.0.self_attn.in_proj_weight is 120000\n",
            "number of parameters of base.transformer_encoder.layers.0.self_attn.in_proj_bias is 600\n",
            "number of parameters of base.transformer_encoder.layers.0.self_attn.out_proj.weight is 40000\n",
            "number of parameters of base.transformer_encoder.layers.0.self_attn.out_proj.bias is 200\n",
            "number of parameters of base.transformer_encoder.layers.0.linear1.weight is 40000\n",
            "number of parameters of base.transformer_encoder.layers.0.linear1.bias is 200\n",
            "number of parameters of base.transformer_encoder.layers.0.linear2.weight is 40000\n",
            "number of parameters of base.transformer_encoder.layers.0.linear2.bias is 200\n",
            "number of parameters of base.transformer_encoder.layers.0.norm1.weight is 200\n",
            "number of parameters of base.transformer_encoder.layers.0.norm1.bias is 200\n",
            "number of parameters of base.transformer_encoder.layers.0.norm2.weight is 200\n",
            "number of parameters of base.transformer_encoder.layers.0.norm2.bias is 200\n",
            "number of parameters of base.transformer_encoder.layers.1.self_attn.in_proj_weight is 120000\n",
            "number of parameters of base.transformer_encoder.layers.1.self_attn.in_proj_bias is 600\n",
            "number of parameters of base.transformer_encoder.layers.1.self_attn.out_proj.weight is 40000\n",
            "number of parameters of base.transformer_encoder.layers.1.self_attn.out_proj.bias is 200\n",
            "number of parameters of base.transformer_encoder.layers.1.linear1.weight is 40000\n",
            "number of parameters of base.transformer_encoder.layers.1.linear1.bias is 200\n",
            "number of parameters of base.transformer_encoder.layers.1.linear2.weight is 40000\n",
            "number of parameters of base.transformer_encoder.layers.1.linear2.bias is 200\n",
            "number of parameters of base.transformer_encoder.layers.1.norm1.weight is 200\n",
            "number of parameters of base.transformer_encoder.layers.1.norm1.bias is 200\n",
            "number of parameters of base.transformer_encoder.layers.1.norm2.weight is 200\n",
            "number of parameters of base.transformer_encoder.layers.1.norm2.bias is 200\n",
            "number of parameters of base.transformer_encoder.layers.2.self_attn.in_proj_weight is 120000\n",
            "number of parameters of base.transformer_encoder.layers.2.self_attn.in_proj_bias is 600\n",
            "number of parameters of base.transformer_encoder.layers.2.self_attn.out_proj.weight is 40000\n",
            "number of parameters of base.transformer_encoder.layers.2.self_attn.out_proj.bias is 200\n",
            "number of parameters of base.transformer_encoder.layers.2.linear1.weight is 40000\n",
            "number of parameters of base.transformer_encoder.layers.2.linear1.bias is 200\n",
            "number of parameters of base.transformer_encoder.layers.2.linear2.weight is 40000\n",
            "number of parameters of base.transformer_encoder.layers.2.linear2.bias is 200\n",
            "number of parameters of base.transformer_encoder.layers.2.norm1.weight is 200\n",
            "number of parameters of base.transformer_encoder.layers.2.norm1.bias is 200\n",
            "number of parameters of base.transformer_encoder.layers.2.norm2.weight is 200\n",
            "number of parameters of base.transformer_encoder.layers.2.norm2.bias is 200\n",
            "number of parameters of base.transformer_encoder.layers.3.self_attn.in_proj_weight is 120000\n",
            "number of parameters of base.transformer_encoder.layers.3.self_attn.in_proj_bias is 600\n",
            "number of parameters of base.transformer_encoder.layers.3.self_attn.out_proj.weight is 40000\n",
            "number of parameters of base.transformer_encoder.layers.3.self_attn.out_proj.bias is 200\n",
            "number of parameters of base.transformer_encoder.layers.3.linear1.weight is 40000\n",
            "number of parameters of base.transformer_encoder.layers.3.linear1.bias is 200\n",
            "number of parameters of base.transformer_encoder.layers.3.linear2.weight is 40000\n",
            "number of parameters of base.transformer_encoder.layers.3.linear2.bias is 200\n",
            "number of parameters of base.transformer_encoder.layers.3.norm1.weight is 200\n",
            "number of parameters of base.transformer_encoder.layers.3.norm1.bias is 200\n",
            "number of parameters of base.transformer_encoder.layers.3.norm2.weight is 200\n",
            "number of parameters of base.transformer_encoder.layers.3.norm2.bias is 200\n",
            "number of parameters of classifier.decoder.weight is 20000\n",
            "number of parameters of classifier.decoder.bias is 100\n",
            "base model trainable weights= 988000\n",
            "classifier trainable weights= 20100\n",
            "torch.Size([1, 6, 100])\n"
          ]
        }
      ],
      "source": [
        "ntokens = 100 # the size of vocabulary\n",
        "nhid = 200  # hidden dimension\n",
        "nlayers = 4  # the number of nn.TransformerEncoderLayer in nn.TransformerEncoder\n",
        "nhead = 2  # the number of heads in the multiheadattention models\n",
        "dropout = 0  # the dropout value\n",
        "\n",
        "model = Model(ntokens, nhead, nhid, nlayers, ntokens, dropout).to(device)\n",
        "dummy_input = torch.tensor([[2, 6, 2, 5, 43, 21]]).to(device)\n",
        "src_mask = model.base.generate_square_subsequent_mask(1).to(device)\n",
        "out = model.forward(dummy_input, src_mask)\n",
        "\n",
        "for name, param in model.named_parameters():\n",
        "  if param.requires_grad:\n",
        "    print('number of parameters of',name,'is' ,param.numel())\n",
        "\n",
        "print('base model trainable weights=',count_parameters(model.base))\n",
        "print('classifier trainable weights=',count_parameters(model.classifier))\n",
        "\n",
        "#print(inspect.getmembers(model))\n",
        "\n",
        "print(out.shape) # is it the right shape?"
      ]
    },
    {
      "cell_type": "markdown",
      "metadata": {
        "id": "i74NN897Fcit"
      },
      "source": [
        "## Vocabulary and Tokenization"
      ]
    },
    {
      "cell_type": "code",
      "execution_count": 5,
      "metadata": {
        "colab": {
          "base_uri": "https://localhost:8080/"
        },
        "id": "5qjd26ghWuff",
        "outputId": "8116055a-c0b4-4594-cb2b-f4c12de5ec11"
      },
      "outputs": [
        {
          "output_type": "stream",
          "name": "stdout",
          "text": [
            "--2023-10-30 15:13:33--  https://raw.githubusercontent.com/moussaKam/transfer_learning_transformers/main/dict.txt\n",
            "Resolving raw.githubusercontent.com (raw.githubusercontent.com)... 185.199.108.133, 185.199.109.133, 185.199.110.133, ...\n",
            "Connecting to raw.githubusercontent.com (raw.githubusercontent.com)|185.199.108.133|:443... connected.\n",
            "HTTP request sent, awaiting response... 200 OK\n",
            "Length: 577587 (564K) [text/plain]\n",
            "Saving to: ‘dict.txt’\n",
            "\n",
            "dict.txt            100%[===================>] 564.05K  --.-KB/s    in 0.04s   \n",
            "\n",
            "2023-10-30 15:13:33 (15.2 MB/s) - ‘dict.txt’ saved [577587/577587]\n",
            "\n",
            "▁d 1\n",
            "es 1\n",
            "▁l 1\n",
            "en 1\n",
            "on 1\n"
          ]
        }
      ],
      "source": [
        "!wget https://raw.githubusercontent.com/moussaKam/transfer_learning_transformers/main/dict.txt\n",
        "!head -5 dict.txt"
      ]
    },
    {
      "cell_type": "code",
      "execution_count": 6,
      "metadata": {
        "colab": {
          "base_uri": "https://localhost:8080/"
        },
        "id": "vFdH_-JeFbGA",
        "outputId": "cb9e3415-8ef6-40e7-bedf-18faf4fde034"
      },
      "outputs": [
        {
          "output_type": "stream",
          "name": "stdout",
          "text": [
            "▁trop\n"
          ]
        }
      ],
      "source": [
        "path_vocab = \"dict.txt\"\n",
        "token2ind = {\"<sos>\": 0, \"<pad>\": 1, \"<eos>\": 2, \"<oov>\": 3} # the 4 first indices are reserved to special tokens\n",
        "with open(path_vocab, \"r\") as f:\n",
        "    for idx, line in enumerate(f):\n",
        "        word = line.split()[0].strip()\n",
        "        token2ind[word] = idx+4 #fill me\n",
        "\n",
        "ind2token = {} #fill me\n",
        "for token,ind in token2ind.items():\n",
        "    ind2token[ind]=token\n",
        "#ind2token = {v: k for k, v in token2ind.items()}\n",
        "\n",
        "print(ind2token[1111])"
      ]
    },
    {
      "cell_type": "markdown",
      "metadata": {
        "id": "XOExGODajN8p"
      },
      "source": [
        "### Data Loader\n"
      ]
    },
    {
      "cell_type": "code",
      "execution_count": 7,
      "metadata": {
        "id": "Y0jN-Ar9i5Q1"
      },
      "outputs": [],
      "source": [
        "import numpy\n",
        "import torch\n",
        "from torch.nn.utils.rnn import pad_sequence\n",
        "from torch.utils.data import DataLoader, Dataset\n",
        "\n",
        "\n",
        "class Dataset(Dataset):\n",
        "    def __init__(\n",
        "        self,\n",
        "        path_documents,\n",
        "        path_labels=None,\n",
        "        token2ind={},\n",
        "        max_len=512,\n",
        "        task=\"language_modeling\",\n",
        "    ):\n",
        "        self.task = task\n",
        "        self.max_len = max_len\n",
        "        self.token2ind = token2ind\n",
        "        self.documents = []\n",
        "        self.labels = []\n",
        "        with open(path_documents, \"r\") as f1:\n",
        "            for line in f1:\n",
        "                self.documents.append(line.strip())\n",
        "        if task == \"classification\":\n",
        "            with open(path_labels, \"r\") as f1:\n",
        "                for line in f1:\n",
        "                    self.labels.append(int(line.strip()))\n",
        "            assert len(self.labels) == len(self.documents)\n",
        "\n",
        "    def __len__(self):\n",
        "        return len(self.documents)\n",
        "\n",
        "    def __getitem__(self, index):\n",
        "        sequence = self.documents[index].split()\n",
        "        if len(sequence) > self.max_len - 1:\n",
        "            sequence = sequence[: self.max_len - 1]\n",
        "        source_sequence =[self.token2ind['<sos>']]+ [self.token2ind[token] if token in token2ind.keys() else self.token2ind['<oov>'] for token in sequence ]#fill me (constract the input sequence using token2ind, sequence and special tokens)\n",
        "        #source_sequence = [token2ind.get('<sos>')] + [token2ind.get(token) if token2ind.get(token) != None else 3 for token in sequence]\n",
        "        if self.task == \"language_modeling\":\n",
        "            target = source_sequence[1:]\n",
        "            target.append(self.token2ind[\"<eos>\"])\n",
        "        elif self.task == \"classification\":\n",
        "            target = [self.labels[index]]\n",
        "        sample = {\n",
        "            \"source_sequence\": torch.tensor(source_sequence),\n",
        "            \"target\": torch.tensor(target),\n",
        "        }\n",
        "        return sample\n",
        "\n",
        "\n",
        "def MyCollator(batch):\n",
        "    source_sequences = pad_sequence(\n",
        "        #we use padding to match the length of the sequences in the same batch\n",
        "        [sample[\"source_sequence\"] for sample in batch], padding_value=token2ind[\"<pad>\"]\n",
        "    )\n",
        "    target = pad_sequence(\n",
        "        [sample[\"target\"] for sample in batch], padding_value=token2ind[\"<pad>\"]\n",
        "    )\n",
        "    return source_sequences, target.reshape(-1)\n",
        "\n",
        "\n",
        "def get_loader(\n",
        "    path_documents,\n",
        "    path_labels=None,\n",
        "    token2ind={},\n",
        "    max_len=512,\n",
        "    batch_size=32,\n",
        "    task=\"language_modeling\",\n",
        "):\n",
        "    dataset = Dataset(\n",
        "        path_documents,\n",
        "        path_labels=path_labels,\n",
        "        token2ind=token2ind,\n",
        "        max_len=512,\n",
        "        task=task,\n",
        "    )\n",
        "    data_loader = DataLoader(\n",
        "        dataset=dataset,\n",
        "        batch_size=batch_size,\n",
        "        shuffle=True,\n",
        "        collate_fn=MyCollator,\n",
        "        pin_memory=True,\n",
        "        drop_last=True,\n",
        "    )\n",
        "    return data_loader"
      ]
    },
    {
      "cell_type": "markdown",
      "metadata": {
        "id": "uTns4lHrjUTa"
      },
      "source": [
        "## The Training"
      ]
    },
    {
      "cell_type": "code",
      "execution_count": 8,
      "metadata": {
        "id": "4_jwosiLjRsS"
      },
      "outputs": [],
      "source": [
        "def train(\n",
        "    path_data_train,\n",
        "    path_labels_train=None,\n",
        "    path_data_valid=None,\n",
        "    save_interval=-1,\n",
        "    log_interval=5,\n",
        "    task=\"language_modeling\",\n",
        "    batch_size=32,\n",
        "):\n",
        "    model.train()\n",
        "    total_loss = 0.0\n",
        "    ntokens = len(token2ind)\n",
        "    data_loader = get_loader(\n",
        "        path_data_train,\n",
        "        path_labels_train,\n",
        "        token2ind,\n",
        "        task=task,\n",
        "        batch_size=batch_size,\n",
        "    )\n",
        "\n",
        "    losses = []\n",
        "    for idx, data in enumerate(data_loader): #step 1\n",
        "        optimizer.zero_grad()\n",
        "        src_mask = model.base.generate_square_subsequent_mask(data[0].size(0)).to(\n",
        "            device\n",
        "        )\n",
        "        input = data[0].to(device)\n",
        "        output = model(input, src_mask) #step 2\n",
        "        if task == 'classification':\n",
        "            #last vector only\n",
        "            output = output[-1]#fill me\n",
        "        output = output.view(-1, output.shape[-1])\n",
        "        target = data[1] #fill me\n",
        "        target = target.to(device)\n",
        "        loss = criterion(output,target) #fill me, Cross entropy check next cells\n",
        "        #fill me step 3\n",
        "        loss.backward()\n",
        "        torch.nn.utils.clip_grad_norm_(model.parameters(), 0.5) # prevent exploding gradient\n",
        "        #fill me step 4\n",
        "        optimizer.step()\n",
        "        total_loss += loss.item()\n",
        "        if idx % log_interval == 0 and idx > 0:\n",
        "            cur_loss = total_loss / log_interval\n",
        "            print(\n",
        "                \"| epoch {:3d} | {:5d}/{:5d} steps | \"\n",
        "                \"loss {:5.5f} | ppl {:8.3f}\".format(\n",
        "                    epoch, idx, len(data_loader), cur_loss, math.exp(cur_loss),\n",
        "                )\n",
        "            )\n",
        "            losses.append(cur_loss)\n",
        "            total_loss = 0\n",
        "    return losses"
      ]
    },
    {
      "cell_type": "code",
      "execution_count": 9,
      "metadata": {
        "colab": {
          "base_uri": "https://localhost:8080/"
        },
        "id": "pgf6BDB9jUr6",
        "outputId": "48c6e12d-f890-4e29-9c89-f12e132f168d"
      },
      "outputs": [
        {
          "output_type": "stream",
          "name": "stdout",
          "text": [
            "ntokens= 50001\n",
            "base model trainable weights= 10968200\n",
            "classifier trainable weights= 10050201\n"
          ]
        }
      ],
      "source": [
        "ntokens = len(token2ind) #fill me # the size of vocabulary\n",
        "print('ntokens=',ntokens)\n",
        "nhid = 200  # the dimension of the feedforward network model in nn.TransformerEncoder\n",
        "nlayers = 4  # the number of nn.TransformerEncoderLayer in nn.TransformerEncoder\n",
        "nhead = 2  # the number of heads in the multiheadattention models\n",
        "dropout = 0  # the dropout value\n",
        "\n",
        "nclasses = 2 # for classification task only\n",
        "\n",
        "model = Model(ntokens, nhead, nhid, nlayers, ntokens, dropout).to(device)\n",
        "\n",
        "print('base model trainable weights=',count_parameters(model.base))\n",
        "print('classifier trainable weights=',count_parameters(model.classifier))"
      ]
    },
    {
      "cell_type": "code",
      "execution_count": 10,
      "metadata": {
        "colab": {
          "base_uri": "https://localhost:8080/"
        },
        "id": "7G8lh9KkaJ2t",
        "outputId": "307575fe-a9eb-4af9-a6b4-ea23fcfdb525"
      },
      "outputs": [
        {
          "output_type": "stream",
          "name": "stdout",
          "text": [
            "+-------------------------------------------------------------+--------------------------+\n",
            "|                            Module                           | Number trainable weights |\n",
            "+-------------------------------------------------------------+--------------------------+\n",
            "|                     base.encoder.weight                     |         10000200         |\n",
            "|  base.transformer_encoder.layers.0.self_attn.in_proj_weight |          120000          |\n",
            "|   base.transformer_encoder.layers.0.self_attn.in_proj_bias  |           600            |\n",
            "| base.transformer_encoder.layers.0.self_attn.out_proj.weight |          40000           |\n",
            "|  base.transformer_encoder.layers.0.self_attn.out_proj.bias  |           200            |\n",
            "|       base.transformer_encoder.layers.0.linear1.weight      |          40000           |\n",
            "|        base.transformer_encoder.layers.0.linear1.bias       |           200            |\n",
            "|       base.transformer_encoder.layers.0.linear2.weight      |          40000           |\n",
            "|        base.transformer_encoder.layers.0.linear2.bias       |           200            |\n",
            "|        base.transformer_encoder.layers.0.norm1.weight       |           200            |\n",
            "|         base.transformer_encoder.layers.0.norm1.bias        |           200            |\n",
            "|        base.transformer_encoder.layers.0.norm2.weight       |           200            |\n",
            "|         base.transformer_encoder.layers.0.norm2.bias        |           200            |\n",
            "|  base.transformer_encoder.layers.1.self_attn.in_proj_weight |          120000          |\n",
            "|   base.transformer_encoder.layers.1.self_attn.in_proj_bias  |           600            |\n",
            "| base.transformer_encoder.layers.1.self_attn.out_proj.weight |          40000           |\n",
            "|  base.transformer_encoder.layers.1.self_attn.out_proj.bias  |           200            |\n",
            "|       base.transformer_encoder.layers.1.linear1.weight      |          40000           |\n",
            "|        base.transformer_encoder.layers.1.linear1.bias       |           200            |\n",
            "|       base.transformer_encoder.layers.1.linear2.weight      |          40000           |\n",
            "|        base.transformer_encoder.layers.1.linear2.bias       |           200            |\n",
            "|        base.transformer_encoder.layers.1.norm1.weight       |           200            |\n",
            "|         base.transformer_encoder.layers.1.norm1.bias        |           200            |\n",
            "|        base.transformer_encoder.layers.1.norm2.weight       |           200            |\n",
            "|         base.transformer_encoder.layers.1.norm2.bias        |           200            |\n",
            "|  base.transformer_encoder.layers.2.self_attn.in_proj_weight |          120000          |\n",
            "|   base.transformer_encoder.layers.2.self_attn.in_proj_bias  |           600            |\n",
            "| base.transformer_encoder.layers.2.self_attn.out_proj.weight |          40000           |\n",
            "|  base.transformer_encoder.layers.2.self_attn.out_proj.bias  |           200            |\n",
            "|       base.transformer_encoder.layers.2.linear1.weight      |          40000           |\n",
            "|        base.transformer_encoder.layers.2.linear1.bias       |           200            |\n",
            "|       base.transformer_encoder.layers.2.linear2.weight      |          40000           |\n",
            "|        base.transformer_encoder.layers.2.linear2.bias       |           200            |\n",
            "|        base.transformer_encoder.layers.2.norm1.weight       |           200            |\n",
            "|         base.transformer_encoder.layers.2.norm1.bias        |           200            |\n",
            "|        base.transformer_encoder.layers.2.norm2.weight       |           200            |\n",
            "|         base.transformer_encoder.layers.2.norm2.bias        |           200            |\n",
            "|  base.transformer_encoder.layers.3.self_attn.in_proj_weight |          120000          |\n",
            "|   base.transformer_encoder.layers.3.self_attn.in_proj_bias  |           600            |\n",
            "| base.transformer_encoder.layers.3.self_attn.out_proj.weight |          40000           |\n",
            "|  base.transformer_encoder.layers.3.self_attn.out_proj.bias  |           200            |\n",
            "|       base.transformer_encoder.layers.3.linear1.weight      |          40000           |\n",
            "|        base.transformer_encoder.layers.3.linear1.bias       |           200            |\n",
            "|       base.transformer_encoder.layers.3.linear2.weight      |          40000           |\n",
            "|        base.transformer_encoder.layers.3.linear2.bias       |           200            |\n",
            "|        base.transformer_encoder.layers.3.norm1.weight       |           200            |\n",
            "|         base.transformer_encoder.layers.3.norm1.bias        |           200            |\n",
            "|        base.transformer_encoder.layers.3.norm2.weight       |           200            |\n",
            "|         base.transformer_encoder.layers.3.norm2.bias        |           200            |\n",
            "|                  classifier.decoder.weight                  |         10000200         |\n",
            "|                   classifier.decoder.bias                   |          50001           |\n",
            "+-------------------------------------------------------------+--------------------------+\n",
            "Total number trainable params: 21018401\n"
          ]
        }
      ],
      "source": [
        "import sympy\n",
        "from sympy import symbols, Eq, solve, sympify\n",
        "from IPython.display import display, Markdown\n",
        "from prettytable import PrettyTable\n",
        "\n",
        "#Done with the help of ChatGPT\n",
        "def parameters_table(model):\n",
        "  table=PrettyTable([\"Module\",\"Number trainable weights\"])\n",
        "  total_nb_params=0\n",
        "  for name,param in model.named_parameters():\n",
        "    if param.requires_grad:\n",
        "      nb_params=param.numel()\n",
        "      table.add_row([name,nb_params])\n",
        "      total_nb_params+=nb_params\n",
        "  print(table)\n",
        "  print(f\"Total number trainable params:\",total_nb_params)\n",
        "\n",
        "parameters_table(model)"
      ]
    },
    {
      "cell_type": "code",
      "execution_count": 11,
      "metadata": {
        "id": "u-OLy4KIkDwf"
      },
      "outputs": [],
      "source": [
        "# optimization parameters\n",
        "\n",
        "criterion = nn.CrossEntropyLoss(ignore_index=token2ind['<pad>'])\n",
        "lr = 0.0003  # learning rate\n",
        "optimizer = torch.optim.Adam(model.parameters(), lr=lr)"
      ]
    },
    {
      "cell_type": "code",
      "execution_count": 12,
      "metadata": {
        "colab": {
          "base_uri": "https://localhost:8080/"
        },
        "id": "Bwh3n9xZQy4e",
        "outputId": "e41515f3-19cd-4727-b07d-e800c620eeeb"
      },
      "outputs": [
        {
          "output_type": "stream",
          "name": "stdout",
          "text": [
            "--2023-10-30 15:13:34--  https://raw.githubusercontent.com/moussaKam/transfer_learning_transformers/main/pretraining_subset.txt\n",
            "Resolving raw.githubusercontent.com (raw.githubusercontent.com)... 185.199.110.133, 185.199.108.133, 185.199.109.133, ...\n",
            "Connecting to raw.githubusercontent.com (raw.githubusercontent.com)|185.199.110.133|:443... connected.\n",
            "HTTP request sent, awaiting response... 200 OK\n",
            "Length: 10146460 (9.7M) [text/plain]\n",
            "Saving to: ‘pretraining_subset.txt’\n",
            "\n",
            "pretraining_subset. 100%[===================>]   9.68M  --.-KB/s    in 0.07s   \n",
            "\n",
            "2023-10-30 15:13:34 (138 MB/s) - ‘pretraining_subset.txt’ saved [10146460/10146460]\n",
            "\n"
          ]
        }
      ],
      "source": [
        "!wget https://raw.githubusercontent.com/moussaKam/transfer_learning_transformers/main/pretraining_subset.txt\n",
        "path_data_train = \"pretraining_subset.txt\""
      ]
    },
    {
      "cell_type": "code",
      "execution_count": 13,
      "metadata": {
        "colab": {
          "base_uri": "https://localhost:8080/"
        },
        "id": "0m11g4ScjZaR",
        "outputId": "ab008e39-40d4-4ce9-9321-f987bdb704f3"
      },
      "outputs": [
        {
          "output_type": "stream",
          "name": "stdout",
          "text": [
            "| epoch   1 |   500/ 3125 steps | loss 7.30129 | ppl 1482.206\n",
            "| epoch   1 |  1000/ 3125 steps | loss 6.47896 | ppl  651.290\n",
            "| epoch   1 |  1500/ 3125 steps | loss 6.21225 | ppl  498.821\n",
            "| epoch   1 |  2000/ 3125 steps | loss 6.04618 | ppl  422.497\n",
            "| epoch   1 |  2500/ 3125 steps | loss 5.92541 | ppl  374.430\n",
            "| epoch   1 |  3000/ 3125 steps | loss 5.82820 | ppl  339.745\n",
            "| epoch   2 |   500/ 3125 steps | loss 5.52108 | ppl  249.904\n",
            "| epoch   2 |  1000/ 3125 steps | loss 5.48774 | ppl  241.709\n",
            "| epoch   2 |  1500/ 3125 steps | loss 5.44714 | ppl  232.094\n",
            "| epoch   2 |  2000/ 3125 steps | loss 5.41258 | ppl  224.210\n",
            "| epoch   2 |  2500/ 3125 steps | loss 5.37499 | ppl  215.938\n",
            "| epoch   2 |  3000/ 3125 steps | loss 5.36866 | ppl  214.574\n"
          ]
        }
      ],
      "source": [
        "#pretraining on a tiny subset\n",
        "log_interval = 500\n",
        "epochs = 2\n",
        "for epoch in range(1, epochs + 1): #5\n",
        "    train(\n",
        "        path_data_train,\n",
        "        save_interval=-1,\n",
        "        task='language_modeling', # fill me\n",
        "        batch_size=16,\n",
        "        log_interval=log_interval,\n",
        "    )"
      ]
    },
    {
      "cell_type": "markdown",
      "metadata": {
        "id": "MeOM1dOvkO4e"
      },
      "source": [
        "## Text Generation\n"
      ]
    },
    {
      "cell_type": "code",
      "execution_count": 14,
      "metadata": {
        "colab": {
          "base_uri": "https://localhost:8080/"
        },
        "id": "-BcBC6FSkMH3",
        "outputId": "d3a20e3b-30b1-4870-9255-f2859504b96d"
      },
      "outputs": [
        {
          "output_type": "stream",
          "name": "stdout",
          "text": [
            "--2023-10-30 15:18:26--  https://raw.githubusercontent.com/moussaKam/transfer_learning_transformers/main/pretrained_model_4layers.pt\n",
            "Resolving raw.githubusercontent.com (raw.githubusercontent.com)... 185.199.110.133, 185.199.108.133, 185.199.109.133, ...\n",
            "Connecting to raw.githubusercontent.com (raw.githubusercontent.com)|185.199.110.133|:443... connected.\n",
            "HTTP request sent, awaiting response... 200 OK\n",
            "Length: 88093955 (84M) [application/octet-stream]\n",
            "Saving to: ‘pretrained_model_4layers.pt’\n",
            "\n",
            "pretrained_model_4l 100%[===================>]  84.01M   349MB/s    in 0.2s    \n",
            "\n",
            "2023-10-30 15:18:26 (349 MB/s) - ‘pretrained_model_4layers.pt’ saved [88093955/88093955]\n",
            "\n"
          ]
        },
        {
          "output_type": "stream",
          "name": "stderr",
          "text": [
            "/usr/local/lib/python3.10/dist-packages/torch/nn/modules/transformer.py:282: UserWarning: enable_nested_tensor is True, but self.use_nested_tensor is False because encoder_layer.self_attn.batch_first was not True(use batch_first for better inference performance)\n",
            "  warnings.warn(f\"enable_nested_tensor is True, but self.use_nested_tensor is False because {why_not_sparsity_fast_path}\")\n"
          ]
        },
        {
          "output_type": "execute_result",
          "data": {
            "text/plain": [
              "<All keys matched successfully>"
            ]
          },
          "metadata": {},
          "execution_count": 14
        }
      ],
      "source": [
        "!wget https://raw.githubusercontent.com/moussaKam/transfer_learning_transformers/main/pretrained_model_4layers.pt\n",
        "\n",
        "model = Model(ntokens, nhead, nhid, nlayers, ntokens).to(device)\n",
        "\n",
        "#load the checkpoint\n",
        "checkpoint = torch.load('pretrained_model_4layers.pt')\n",
        "#load state dict\n",
        "model.load_state_dict(checkpoint['model_state_dict'])"
      ]
    },
    {
      "cell_type": "code",
      "execution_count": 15,
      "metadata": {
        "colab": {
          "base_uri": "https://localhost:8080/"
        },
        "id": "tBRRVsWqlIoQ",
        "outputId": "5e7655f9-3d02-4bbb-e077-cc5e462949cd"
      },
      "outputs": [
        {
          "output_type": "stream",
          "name": "stdout",
          "text": [
            "Collecting sentencepiece\n",
            "  Downloading sentencepiece-0.1.99-cp310-cp310-manylinux_2_17_x86_64.manylinux2014_x86_64.whl (1.3 MB)\n",
            "\u001b[2K     \u001b[90m━━━━━━━━━━━━━━━━━━━━━━━━━━━━━━━━━━━━━━━━\u001b[0m \u001b[32m1.3/1.3 MB\u001b[0m \u001b[31m8.3 MB/s\u001b[0m eta \u001b[36m0:00:00\u001b[0m\n",
            "\u001b[?25hInstalling collected packages: sentencepiece\n",
            "Successfully installed sentencepiece-0.1.99\n",
            "--2023-10-30 15:18:32--  https://raw.githubusercontent.com/moussaKam/transfer_learning_transformers/main/sentencepiece.french.model\n",
            "Resolving raw.githubusercontent.com (raw.githubusercontent.com)... 185.199.111.133, 185.199.109.133, 185.199.110.133, ...\n",
            "Connecting to raw.githubusercontent.com (raw.githubusercontent.com)|185.199.111.133|:443... connected.\n",
            "HTTP request sent, awaiting response... 200 OK\n",
            "Length: 1115362 (1.1M) [application/octet-stream]\n",
            "Saving to: ‘sentencepiece.french.model’\n",
            "\n",
            "sentencepiece.frenc 100%[===================>]   1.06M  --.-KB/s    in 0.04s   \n",
            "\n",
            "2023-10-30 15:18:33 (24.7 MB/s) - ‘sentencepiece.french.model’ saved [1115362/1115362]\n",
            "\n",
            "['▁Bonjour', '▁les', '▁amis', '!']\n",
            "Bonjour les amis!\n"
          ]
        }
      ],
      "source": [
        "!pip install sentencepiece   # uncomment this if you are using google colab\n",
        "!wget https://raw.githubusercontent.com/moussaKam/transfer_learning_transformers/main/sentencepiece.french.model\n",
        "\n",
        "import sentencepiece as spm\n",
        "\n",
        "s = spm.SentencePieceProcessor(model_file='sentencepiece.french.model') #load sentencepiece model\n",
        "\n",
        "#examples\n",
        "encoded = s.encode_as_pieces(\"Bonjour les amis!\")\n",
        "decoded = s.decode_pieces(encoded)\n",
        "print(encoded)\n",
        "print(decoded)"
      ]
    },
    {
      "cell_type": "code",
      "execution_count": 16,
      "metadata": {
        "id": "TtLlV05pkQI3"
      },
      "outputs": [],
      "source": [
        "def infer_next_token(sent):\n",
        "    model.eval()\n",
        "    sent_pieces = s.encode_as_pieces(sent)\n",
        "    #print('sent_pieces=', sent_pieces)\n",
        "    source = [token2ind['<sos>']] + [token2ind[el] for el in sent_pieces] # list of tokens\n",
        "    source = torch.tensor(source).to(device)\n",
        "    source = source.reshape(-1, 1)\n",
        "    src_mask = model.base.generate_square_subsequent_mask(source.size(0)).to(device)\n",
        "    out = model(source, src_mask)\n",
        "    #print('out shape=',out.shape)\n",
        "    next_token_ind = out.argmax(-1) #fill me\n",
        "    #print('next_token_ind argmax',next_token_ind)\n",
        "    next_token_ind=next_token_ind[-1,0]\n",
        "    #print('last next_token_ind=',next_token_ind)\n",
        "    next_token_ind=int(next_token_ind)\n",
        "    return next_token_ind, out\n",
        "\n",
        "def infer_next_tokens(sent, max_len=50):\n",
        "    # to be implemented\n",
        "    sent_pieces = s.encode_as_pieces(sent)\n",
        "    completed_sent = sent\n",
        "    completed_sent_pieces = sent_pieces\n",
        "    while len(completed_sent_pieces)<max_len:\n",
        "      next_token_ind=infer_next_token(completed_sent)[0]\n",
        "      #print('next_token_ind=',next_token_ind)\n",
        "      next_token=ind2token.get(next_token_ind)\n",
        "      #print('next_token=',next_token)\n",
        "      completed_sent_pieces.append(next_token)\n",
        "      completed_sent = s.decode_pieces(completed_sent_pieces)\n",
        "      if next_token_ind==2:\n",
        "        break\n",
        "    return completed_sent\n",
        "\n"
      ]
    },
    {
      "cell_type": "code",
      "execution_count": 17,
      "metadata": {
        "colab": {
          "base_uri": "https://localhost:8080/",
          "height": 36
        },
        "id": "f83Nn5nSly4v",
        "outputId": "4f1c5392-5a1d-419f-e912-bebe24904b1b"
      },
      "outputs": [
        {
          "output_type": "execute_result",
          "data": {
            "text/plain": [
              "'Bonjour les gens qui ont été très accueillants et sympathiques.<eos>'"
            ],
            "application/vnd.google.colaboratory.intrinsic+json": {
              "type": "string"
            }
          },
          "metadata": {},
          "execution_count": 17
        }
      ],
      "source": [
        "sent = \"Bonjour les\"\n",
        "infer_next_tokens(sent)"
      ]
    },
    {
      "cell_type": "code",
      "execution_count": 17,
      "metadata": {
        "id": "pDscInaqlTPo"
      },
      "outputs": [],
      "source": []
    },
    {
      "cell_type": "markdown",
      "metadata": {
        "id": "Lp7mjVzomoZ3"
      },
      "source": [
        "### Supervised task"
      ]
    },
    {
      "cell_type": "code",
      "execution_count": 18,
      "metadata": {
        "colab": {
          "base_uri": "https://localhost:8080/"
        },
        "id": "0K1BZsblmEmx",
        "outputId": "8566f42d-606f-4c57-bc7a-56d94fd0b4df"
      },
      "outputs": [
        {
          "output_type": "stream",
          "name": "stdout",
          "text": [
            "--2023-10-30 15:18:33--  https://raw.githubusercontent.com/moussaKam/transfer_learning_transformers/main/cls-books/train.review.spm\n",
            "Resolving raw.githubusercontent.com (raw.githubusercontent.com)... 185.199.108.133, 185.199.109.133, 185.199.110.133, ...\n",
            "Connecting to raw.githubusercontent.com (raw.githubusercontent.com)|185.199.108.133|:443... connected.\n",
            "HTTP request sent, awaiting response... 200 OK\n",
            "Length: 1495960 (1.4M) [text/plain]\n",
            "Saving to: ‘train.review.spm’\n",
            "\n",
            "train.review.spm    100%[===================>]   1.43M  --.-KB/s    in 0.04s   \n",
            "\n",
            "2023-10-30 15:18:33 (33.3 MB/s) - ‘train.review.spm’ saved [1495960/1495960]\n",
            "\n",
            "--2023-10-30 15:18:33--  https://raw.githubusercontent.com/moussaKam/transfer_learning_transformers/main/cls-books/train.label\n",
            "Resolving raw.githubusercontent.com (raw.githubusercontent.com)... 185.199.110.133, 185.199.109.133, 185.199.108.133, ...\n",
            "Connecting to raw.githubusercontent.com (raw.githubusercontent.com)|185.199.110.133|:443... connected.\n",
            "HTTP request sent, awaiting response... 200 OK\n",
            "Length: 3200 (3.1K) [text/plain]\n",
            "Saving to: ‘train.label’\n",
            "\n",
            "train.label         100%[===================>]   3.12K  --.-KB/s    in 0s      \n",
            "\n",
            "2023-10-30 15:18:33 (53.3 MB/s) - ‘train.label’ saved [3200/3200]\n",
            "\n",
            "--2023-10-30 15:18:33--  https://raw.githubusercontent.com/moussaKam/transfer_learning_transformers/main/cls-books/test.review.spm\n",
            "Resolving raw.githubusercontent.com (raw.githubusercontent.com)... 185.199.111.133, 185.199.109.133, 185.199.110.133, ...\n",
            "Connecting to raw.githubusercontent.com (raw.githubusercontent.com)|185.199.111.133|:443... connected.\n",
            "HTTP request sent, awaiting response... 200 OK\n",
            "Length: 1864544 (1.8M) [text/plain]\n",
            "Saving to: ‘test.review.spm’\n",
            "\n",
            "test.review.spm     100%[===================>]   1.78M  --.-KB/s    in 0.05s   \n",
            "\n",
            "2023-10-30 15:18:34 (38.1 MB/s) - ‘test.review.spm’ saved [1864544/1864544]\n",
            "\n",
            "--2023-10-30 15:18:34--  https://raw.githubusercontent.com/moussaKam/transfer_learning_transformers/main/cls-books/test.label\n",
            "Resolving raw.githubusercontent.com (raw.githubusercontent.com)... 185.199.108.133, 185.199.109.133, 185.199.110.133, ...\n",
            "Connecting to raw.githubusercontent.com (raw.githubusercontent.com)|185.199.108.133|:443... connected.\n",
            "HTTP request sent, awaiting response... 200 OK\n",
            "Length: 4000 (3.9K) [text/plain]\n",
            "Saving to: ‘test.label’\n",
            "\n",
            "test.label          100%[===================>]   3.91K  --.-KB/s    in 0s      \n",
            "\n",
            "2023-10-30 15:18:34 (72.6 MB/s) - ‘test.label’ saved [4000/4000]\n",
            "\n"
          ]
        }
      ],
      "source": [
        "!wget https://raw.githubusercontent.com/moussaKam/transfer_learning_transformers/main/cls-books/train.review.spm\n",
        "!wget https://raw.githubusercontent.com/moussaKam/transfer_learning_transformers/main/cls-books/train.label\n",
        "!wget https://raw.githubusercontent.com/moussaKam/transfer_learning_transformers/main/cls-books/test.review.spm\n",
        "!wget https://raw.githubusercontent.com/moussaKam/transfer_learning_transformers/main/cls-books/test.label\n",
        "\n",
        "path_data_train = \"train.review.spm\"\n",
        "path_labels_train = \"train.label\"\n",
        "\n",
        "path_data_valid = \"test.review.spm\"\n",
        "path_labels_valid = \"test.label\""
      ]
    },
    {
      "cell_type": "code",
      "execution_count": 19,
      "metadata": {
        "id": "_MLfvjiom2SL"
      },
      "outputs": [],
      "source": [
        "# a function to evaluate the validation accuracy of the model.\n",
        "def evaluate_accuracy(data_loader):\n",
        "    #to be implemented\n",
        "    N=len(data_loader.dataset)\n",
        "    #print('N=',N)\n",
        "    batch_size=data_loader.batch_size\n",
        "    #print('batch_size=',batch_size)\n",
        "    outputs=torch.zeros(N)#.to(device)\n",
        "    targets=torch.zeros(N)#.to(device)\n",
        "    for idx, data in enumerate(data_loader):\n",
        "      src_mask = model.base.generate_square_subsequent_mask(data[0].size(0)).to(\n",
        "        device)\n",
        "      input = data[0].to(device)\n",
        "      output = model(input, src_mask)\n",
        "      #if data_loader.task == 'classification':\n",
        "      output = output[-1]\n",
        "      #print('output[-1] shape=',output.shape)\n",
        "      #output = output.view(-1, output.shape[-1])\n",
        "      #print('output reshaped shape=',output.shape)\n",
        "      #take most probable of the two classes\n",
        "      #print('output.argmax(axis=1) shape=',output.argmax(axis=1).shape)\n",
        "      #print('idx=',idx)\n",
        "      outputs[idx*batch_size: (idx+1)*batch_size] = output.argmax(axis=1)\n",
        "      #print('output post argmax shape=',output.shape)\n",
        "      targets[idx*batch_size: (idx+1)*batch_size] = data[1]\n",
        "      #print('target shape=',target.shape)\n",
        "      #target = target.to(device)\n",
        "\n",
        "\n",
        "    #print('targets shape=',targets.shape)\n",
        "    #print('outputs shape=',outputs.shape)\n",
        "    return torch.sum(targets==outputs)/N"
      ]
    },
    {
      "cell_type": "code",
      "execution_count": 20,
      "metadata": {
        "id": "qzmx7T7xoa6v"
      },
      "outputs": [],
      "source": [
        "#save the base model to be loaded later in the fine-tuning phase\n",
        "torch.save({\"model_state_dict\": model.base.state_dict(),}, \"pretrained_model_4layers_no_class_head.pt\")"
      ]
    },
    {
      "cell_type": "code",
      "execution_count": 21,
      "metadata": {
        "colab": {
          "base_uri": "https://localhost:8080/"
        },
        "id": "i-xclMCpnVpw",
        "outputId": "167e843b-b48e-4d9c-b517-63a7fe1dce4c"
      },
      "outputs": [
        {
          "output_type": "stream",
          "name": "stdout",
          "text": [
            "=====Trainig FROM SCRATCH======\n",
            "| epoch   1 |    50/  200 steps | loss 0.75491 | ppl    2.127\n",
            "| epoch   1 |   100/  200 steps | loss 0.74181 | ppl    2.100\n",
            "| epoch   1 |   150/  200 steps | loss 0.73361 | ppl    2.083\n",
            "| epoch   2 |    50/  200 steps | loss 0.64499 | ppl    1.906\n",
            "| epoch   2 |   100/  200 steps | loss 0.63780 | ppl    1.892\n",
            "| epoch   2 |   150/  200 steps | loss 0.59072 | ppl    1.805\n",
            "| epoch   3 |    50/  200 steps | loss 0.46394 | ppl    1.590\n",
            "| epoch   3 |   100/  200 steps | loss 0.36906 | ppl    1.446\n",
            "| epoch   3 |   150/  200 steps | loss 0.40134 | ppl    1.494\n",
            "| epoch   4 |    50/  200 steps | loss 0.23960 | ppl    1.271\n",
            "| epoch   4 |   100/  200 steps | loss 0.12400 | ppl    1.132\n",
            "| epoch   4 |   150/  200 steps | loss 0.11196 | ppl    1.118\n",
            "| epoch   5 |    50/  200 steps | loss 0.01505 | ppl    1.015\n",
            "| epoch   5 |   100/  200 steps | loss 0.03836 | ppl    1.039\n",
            "| epoch   5 |   150/  200 steps | loss 0.04676 | ppl    1.048\n",
            "| epoch   6 |    50/  200 steps | loss 0.00330 | ppl    1.003\n",
            "| epoch   6 |   100/  200 steps | loss 0.03011 | ppl    1.031\n",
            "| epoch   6 |   150/  200 steps | loss 0.00754 | ppl    1.008\n",
            "| epoch   7 |    50/  200 steps | loss 0.00162 | ppl    1.002\n",
            "| epoch   7 |   100/  200 steps | loss 0.00020 | ppl    1.000\n",
            "| epoch   7 |   150/  200 steps | loss 0.00006 | ppl    1.000\n",
            "| epoch   8 |    50/  200 steps | loss 0.00002 | ppl    1.000\n",
            "| epoch   8 |   100/  200 steps | loss 0.00084 | ppl    1.001\n",
            "| epoch   8 |   150/  200 steps | loss 0.00005 | ppl    1.000\n",
            "| epoch   9 |    50/  200 steps | loss 0.00001 | ppl    1.000\n",
            "| epoch   9 |   100/  200 steps | loss 0.00002 | ppl    1.000\n",
            "| epoch   9 |   150/  200 steps | loss 0.00001 | ppl    1.000\n",
            "| epoch  10 |    50/  200 steps | loss 0.00001 | ppl    1.000\n",
            "| epoch  10 |   100/  200 steps | loss 0.00001 | ppl    1.000\n",
            "| epoch  10 |   150/  200 steps | loss 0.00001 | ppl    1.000\n",
            "| epoch  11 |    50/  200 steps | loss 0.00001 | ppl    1.000\n",
            "| epoch  11 |   100/  200 steps | loss 0.00001 | ppl    1.000\n",
            "| epoch  11 |   150/  200 steps | loss 0.00001 | ppl    1.000\n",
            "| epoch  12 |    50/  200 steps | loss 0.00001 | ppl    1.000\n",
            "| epoch  12 |   100/  200 steps | loss 0.00001 | ppl    1.000\n",
            "| epoch  12 |   150/  200 steps | loss 0.00001 | ppl    1.000\n",
            "| epoch  13 |    50/  200 steps | loss 0.00001 | ppl    1.000\n",
            "| epoch  13 |   100/  200 steps | loss 0.00001 | ppl    1.000\n",
            "| epoch  13 |   150/  200 steps | loss 0.00001 | ppl    1.000\n",
            "| epoch  14 |    50/  200 steps | loss 0.00001 | ppl    1.000\n",
            "| epoch  14 |   100/  200 steps | loss 0.00001 | ppl    1.000\n",
            "| epoch  14 |   150/  200 steps | loss 0.00001 | ppl    1.000\n",
            "| epoch  15 |    50/  200 steps | loss 0.00001 | ppl    1.000\n",
            "| epoch  15 |   100/  200 steps | loss 0.00001 | ppl    1.000\n",
            "| epoch  15 |   150/  200 steps | loss 0.00735 | ppl    1.007\n",
            "\n",
            "=====PRETRAINED MODEL======\n",
            "| epoch   1 |    50/  200 steps | loss 0.76755 | ppl    2.154\n",
            "| epoch   1 |   100/  200 steps | loss 0.64424 | ppl    1.905\n",
            "| epoch   1 |   150/  200 steps | loss 0.62059 | ppl    1.860\n",
            "| epoch   2 |    50/  200 steps | loss 0.49921 | ppl    1.647\n",
            "| epoch   2 |   100/  200 steps | loss 0.43840 | ppl    1.550\n",
            "| epoch   2 |   150/  200 steps | loss 0.46888 | ppl    1.598\n",
            "| epoch   3 |    50/  200 steps | loss 0.32493 | ppl    1.384\n",
            "| epoch   3 |   100/  200 steps | loss 0.37077 | ppl    1.449\n",
            "| epoch   3 |   150/  200 steps | loss 0.35456 | ppl    1.426\n",
            "| epoch   4 |    50/  200 steps | loss 0.26636 | ppl    1.305\n",
            "| epoch   4 |   100/  200 steps | loss 0.25133 | ppl    1.286\n",
            "| epoch   4 |   150/  200 steps | loss 0.25488 | ppl    1.290\n",
            "| epoch   5 |    50/  200 steps | loss 0.20139 | ppl    1.223\n",
            "| epoch   5 |   100/  200 steps | loss 0.11691 | ppl    1.124\n",
            "| epoch   5 |   150/  200 steps | loss 0.22970 | ppl    1.258\n",
            "| epoch   6 |    50/  200 steps | loss 0.06643 | ppl    1.069\n",
            "| epoch   6 |   100/  200 steps | loss 0.07885 | ppl    1.082\n",
            "| epoch   6 |   150/  200 steps | loss 0.16109 | ppl    1.175\n",
            "| epoch   7 |    50/  200 steps | loss 0.00495 | ppl    1.005\n",
            "| epoch   7 |   100/  200 steps | loss 0.03778 | ppl    1.039\n",
            "| epoch   7 |   150/  200 steps | loss 0.01818 | ppl    1.018\n",
            "| epoch   8 |    50/  200 steps | loss 0.02270 | ppl    1.023\n",
            "| epoch   8 |   100/  200 steps | loss 0.02188 | ppl    1.022\n",
            "| epoch   8 |   150/  200 steps | loss 0.00349 | ppl    1.004\n",
            "| epoch   9 |    50/  200 steps | loss 0.01280 | ppl    1.013\n",
            "| epoch   9 |   100/  200 steps | loss 0.00974 | ppl    1.010\n",
            "| epoch   9 |   150/  200 steps | loss 0.02291 | ppl    1.023\n",
            "| epoch  10 |    50/  200 steps | loss 0.00727 | ppl    1.007\n",
            "| epoch  10 |   100/  200 steps | loss 0.00151 | ppl    1.002\n",
            "| epoch  10 |   150/  200 steps | loss 0.00030 | ppl    1.000\n",
            "| epoch  11 |    50/  200 steps | loss 0.00288 | ppl    1.003\n",
            "| epoch  11 |   100/  200 steps | loss 0.00016 | ppl    1.000\n",
            "| epoch  11 |   150/  200 steps | loss 0.00597 | ppl    1.006\n",
            "| epoch  12 |    50/  200 steps | loss 0.00063 | ppl    1.001\n",
            "| epoch  12 |   100/  200 steps | loss 0.00000 | ppl    1.000\n",
            "| epoch  12 |   150/  200 steps | loss 0.00060 | ppl    1.001\n",
            "| epoch  13 |    50/  200 steps | loss 0.00000 | ppl    1.000\n",
            "| epoch  13 |   100/  200 steps | loss 0.00000 | ppl    1.000\n",
            "| epoch  13 |   150/  200 steps | loss 0.00000 | ppl    1.000\n",
            "| epoch  14 |    50/  200 steps | loss 0.00000 | ppl    1.000\n",
            "| epoch  14 |   100/  200 steps | loss 0.00005 | ppl    1.000\n",
            "| epoch  14 |   150/  200 steps | loss 0.01992 | ppl    1.020\n",
            "| epoch  15 |    50/  200 steps | loss 0.00002 | ppl    1.000\n",
            "| epoch  15 |   100/  200 steps | loss 0.00251 | ppl    1.003\n",
            "| epoch  15 |   150/  200 steps | loss 0.00003 | ppl    1.000\n",
            "\n"
          ]
        }
      ],
      "source": [
        "from_scratch_settings = [True, False]\n",
        "\n",
        "from_scratch_valid_acc = []\n",
        "pretrained_valid_acc = []\n",
        "lr = 0.0001\n",
        "\n",
        "for from_scratch in from_scratch_settings:\n",
        "    model = Model(ntokens, nhead, nhid, nlayers, 2, dropout).to(device)\n",
        "    criterion = nn.CrossEntropyLoss()\n",
        "    optimizer = torch.optim.Adam(model.parameters(), lr=lr)\n",
        "    if not from_scratch:\n",
        "        print(\"=====PRETRAINED MODEL======\")\n",
        "        #load checkpoint\n",
        "        checkpoint = torch.load(\"pretrained_model_4layers_no_class_head.pt\")\n",
        "        #load state dict\n",
        "        model.base.load_state_dict(checkpoint['model_state_dict'])\n",
        "    else:\n",
        "        print(\"=====Trainig FROM SCRATCH======\")\n",
        "    epochs = 15\n",
        "    for epoch in range(1, epochs + 1):\n",
        "        train(\n",
        "            path_data_train,\n",
        "            path_labels_train,\n",
        "            save_interval=-1,\n",
        "            task='classification',\n",
        "            batch_size=8,\n",
        "            log_interval=50,\n",
        "        )\n",
        "        acc = evaluate_accuracy(\n",
        "            get_loader(\n",
        "                path_data_valid,\n",
        "                path_labels_valid,\n",
        "                token2ind=token2ind,\n",
        "                batch_size=20,\n",
        "                task='classification',\n",
        "            )\n",
        "        )\n",
        "        if from_scratch:\n",
        "            from_scratch_valid_acc.append(acc)\n",
        "        else:\n",
        "            pretrained_valid_acc.append(acc)\n",
        "    print()"
      ]
    },
    {
      "cell_type": "code",
      "execution_count": 22,
      "metadata": {
        "colab": {
          "base_uri": "https://localhost:8080/",
          "height": 472
        },
        "id": "RCpBIdTHojm6",
        "outputId": "8e536555-aa3f-456c-eb6b-52d077fdb344"
      },
      "outputs": [
        {
          "output_type": "display_data",
          "data": {
            "text/plain": [
              "<Figure size 640x480 with 1 Axes>"
            ],
            "image/png": "[encoded data removed]"
          },
          "metadata": {}
        }
      ],
      "source": [
        "#Visualize the accuracy\n",
        "import matplotlib.pyplot as plt\n",
        "\n",
        "epochs = list(range(1, len(from_scratch_valid_acc) + 1))\n",
        "\n",
        "plt.plot(epochs, from_scratch_valid_acc, label='From Scratch Valid Accuracy')\n",
        "plt.plot(epochs, pretrained_valid_acc, label='Pretrained Valid Accuracy')\n",
        "\n",
        "plt.xlabel('Epochs')\n",
        "plt.ylabel('Accuracy')\n",
        "plt.title('Comparison of Valid Accuracies')\n",
        "plt.legend()\n",
        "plt.show()\n"
      ]
    }
  ],
  "metadata": {
    "accelerator": "GPU",
    "colab": {
      "provenance": []
    },
    "kernelspec": {
      "display_name": "Python 3",
      "name": "python3"
    },
    "language_info": {
      "codemirror_mode": {
        "name": "ipython",
        "version": 3
      },
      "file_extension": ".py",
      "mimetype": "text/x-python",
      "name": "python",
      "nbconvert_exporter": "python",
      "pygments_lexer": "ipython3",
      "version": "3.11.5"
    },
    "vscode": {
      "interpreter": {
        "hash": "1f3cfdeab8dd8f9900bd16266619de191cf0f5e09365d74b1fba1714dce58066"
      }
    }
  },
  "nbformat": 4,
  "nbformat_minor": 0
}